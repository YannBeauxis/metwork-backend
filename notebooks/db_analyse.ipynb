{
 "cells": [
  {
   "cell_type": "code",
   "execution_count": null,
   "metadata": {},
   "outputs": [],
   "source": [
    "from pathlib import Path\n",
    "import matplotlib.pyplot as plt\n",
    "import pandas as pd\n",
    "import seaborn as sns"
   ]
  },
  {
   "cell_type": "code",
   "execution_count": null,
   "metadata": {},
   "outputs": [],
   "source": [
    "sources = {\n",
    "    \"users\" : ['id', \"username\", \"email\", 'organization', 'date_joined'],\n",
    "    \"projects\": ['id', 'name', 'description', 'user_id', 'status_code', 'public', 'frag_sample_id', 'frag_sim_conf_id', 'frag_compare_conf_id', 'depth_total', 'depth_last_match'],\n",
    "    \"projects_info\" : None,\n",
    "    \"fragsamples\": ['id', 'user_id', 'name', 'ion_charge', 'ions_total', 'status_code'],\n",
    "    \"fragsamples_info\" : None,\n",
    "    \"reactions\" : ['id', 'name', 'description', 'user_id', 'reactants_number', 'status_code'],\n",
    "}\n",
    "dfs = {}\n",
    "for name, fields in sources.items():\n",
    "    path = Path().resolve() / \"{}.json\".format(name)\n",
    "    dfs[name] = pd.read_json(path)\n",
    "    if fields is not None:\n",
    "        dfs[name] = dfs[name].loc[:,fields]\n",
    "\n",
    "for name in (\"projects\", \"fragsamples\"):\n",
    "    df_name =  dfs.pop(\"{}_info\".format(name))\n",
    "    dfs[name] = dfs[name].merge(df_name, on=\"id\", how=\"outer\")"
   ]
  },
  {
   "cell_type": "code",
   "execution_count": null,
   "metadata": {},
   "outputs": [],
   "source": [
    "for name, df in dfs.items():\n",
    "    print(name)\n",
    "    print(list(df.columns))"
   ]
  },
  {
   "cell_type": "code",
   "execution_count": null,
   "metadata": {},
   "outputs": [],
   "source": [
    "for name, df in dfs.items():\n",
    "    if \"description\" in df.columns:\n",
    "        print(\"{} with description : {:.0%}\".format(name, len(df.description.unique())/len(df)))"
   ]
  },
  {
   "cell_type": "code",
   "execution_count": null,
   "metadata": {},
   "outputs": [],
   "source": [
    "aggs = {\n",
    "    \"projects\": { \"matching_count\": (\"sum\", \"mean\"), \"reactions_count\": \"mean\"},\n",
    "    \"fragsamples\": {'ions_total':(\"sum\", \"mean\"), \"annotations_count\":(\"sum\", \"mean\") },\n",
    "    \"reactions\" : {},\n",
    "}\n",
    "\n",
    "dfs_ = dfs.copy()\n",
    "agg = {label:(\"first\", ) for label in (\"organization\", \"username\", \"email\")}\n",
    "df_u = dfs_.pop(\"users\").groupby(\"id\").agg(agg).reset_index()\n",
    "for name, df in dfs_.items():\n",
    "    # cols_rename = {label: \"{}_{}\".format(name, label) for label in (\"id\", \"name\", \"description\", \"status_code\")}\n",
    "    cols_rename = {\"id\": \"{}_id\".format(name)}\n",
    "    df.rename(columns=cols_rename, inplace=True)\n",
    "    agg = aggs[name]\n",
    "    agg[cols_rename[\"id\"]] = (\"count\",)\n",
    "    df = df.groupby(\"user_id\").agg(agg)\n",
    "    df_u =  df_u.merge(df, left_on=\"id\", right_on=\"user_id\", how=\"outer\")\n",
    "    #df_u.drop(columns=\"user_id\", inplace=True)\n",
    "df_u"
   ]
  },
  {
   "cell_type": "code",
   "execution_count": null,
   "metadata": {},
   "outputs": [],
   "source": [
    "df_u.sort_values((\"projects_id\", \"count\"), ascending=False).head(20)"
   ]
  },
  {
   "cell_type": "code",
   "execution_count": null,
   "metadata": {},
   "outputs": [],
   "source": [
    "df_u.id != 17"
   ]
  },
  {
   "cell_type": "code",
   "execution_count": null,
   "metadata": {},
   "outputs": [],
   "source": [
    "df_u[\"fragsamples_id_count\"] = df_u[(\"fragsamples_id\", \"count\")]\n",
    "df_u[\"projects_id_count\"] = df_u[(\"projects_id\", \"count\")]\n",
    "df_u[\"matching_count_sum\"] = df_u[(\"matching_count\", \"sum\")]\n",
    "df_u[\"reactions_id_count\"] = df_u[(\"reactions_id\", \"count\")]\n",
    "df_u[\"annotations_count_sum\"] = df_u[(\"annotations_count\", \"sum\")]\n",
    "sns.relplot(data=df_u[df_u.id != 17], x=\"fragsamples_id_count\", y=\"projects_id_count\", size=\"matching_count_sum\", hue=\"annotations_count_sum\", palette=\"ch:r=-.5,l=.75\")"
   ]
  },
  {
   "cell_type": "code",
   "execution_count": null,
   "metadata": {},
   "outputs": [],
   "source": [
    "df_u.loc[df_u[\"projects_id_count\"] > 5].sort_values(\"fragsamples_id_count\", ascending=False)"
   ]
  },
  {
   "cell_type": "code",
   "execution_count": null,
   "metadata": {},
   "outputs": [],
   "source": [
    "agg = {\"projects_id\": (\"nunique\", \"count\"), \"reactions_id\": \"nunique\", \"annotations_count\": \"sum\"}\n",
    "df_u.groupby(\"id\").agg(agg)"
   ]
  },
  {
   "cell_type": "code",
   "execution_count": null,
   "metadata": {},
   "outputs": [],
   "source": [
    "df_projects = dfs[\"projects\"].merge(dfs[\"projects_info\"], on=\"id\", how=\"outer\")"
   ]
  },
  {
   "cell_type": "code",
   "execution_count": null,
   "metadata": {},
   "outputs": [],
   "source": [
    "df_projects.groupby(\"user_id\").agg([\"nunique\", \"count\"]).frag_sample_id_y"
   ]
  },
  {
   "cell_type": "code",
   "execution_count": null,
   "metadata": {},
   "outputs": [],
   "source": [
    "PROJECT_COLS = (\"\")\n",
    "user_count = df_projects.reset_index().groupby(\"user_id\").agg({\"id\": \"count\",  \"matching_count\": \"sum\"})#.head(20)\n",
    "user_count.sort_values(by=\"matching_count\", ascending=False).head()\n"
   ]
  },
  {
   "cell_type": "code",
   "execution_count": null,
   "metadata": {},
   "outputs": [],
   "source": [
    "sns.displot(user_count.query(\"user_id!=17 and id<20\"), x=\"id\")"
   ]
  },
  {
   "cell_type": "code",
   "execution_count": null,
   "metadata": {},
   "outputs": [],
   "source": [
    "sns.displot(user_count.query(\"user_id!=17\"), x=\"id\")"
   ]
  },
  {
   "cell_type": "code",
   "execution_count": null,
   "metadata": {},
   "outputs": [],
   "source": [
    "sns.displot(user_count.query(\"user_id!=17 and matching_count > 0\" ), x=\"matching_count\")"
   ]
  },
  {
   "cell_type": "code",
   "execution_count": null,
   "metadata": {},
   "outputs": [],
   "source": [
    "user_count.query(\"id == 0\")"
   ]
  },
  {
   "cell_type": "code",
   "execution_count": null,
   "metadata": {},
   "outputs": [],
   "source": [
    "df_fs = dfs[\"fragsamples\"].merge(dfs[\"fragsamples_info\"], on=\"id\", how=\"outer\")\n",
    "df_fs\n"
   ]
  },
  {
   "cell_type": "code",
   "execution_count": null,
   "metadata": {},
   "outputs": [],
   "source": [
    "df_fs.query(\"user_id == 92\")"
   ]
  },
  {
   "cell_type": "code",
   "execution_count": null,
   "metadata": {},
   "outputs": [],
   "source": [
    "df_fs_group = df_fs.groupby(\"user_id\").agg({\"name\": \"count\", \"annotations_count\": \"sum\",\"ions_total\": \"sum\"})\n",
    "df_fs_group.sort_values(\"name\", ascending=False)"
   ]
  },
  {
   "cell_type": "code",
   "execution_count": null,
   "metadata": {},
   "outputs": [],
   "source": [
    "sns.displot(df_fs_group, x=\"name\")"
   ]
  },
  {
   "cell_type": "code",
   "execution_count": null,
   "metadata": {},
   "outputs": [],
   "source": [
    "sns.displot(df_fs_group, x=\"annotations_count\")"
   ]
  },
  {
   "cell_type": "code",
   "execution_count": null,
   "metadata": {},
   "outputs": [],
   "source": [
    "sns.displot(df_fs_group, x=\"ions_total\")"
   ]
  },
  {
   "cell_type": "code",
   "execution_count": null,
   "metadata": {},
   "outputs": [],
   "source": [
    "df_users = dfs[\"users\"].reset_index().merge(df_fs_group, left_on=\"id\", right_on=\"user_id\", how=\"outer\")\n",
    "df_users = df_users.reset_index().merge(user_count, left_on=\"id\", right_on=\"user_id\", how=\"outer\")\n",
    "df_users.sort_values(\"name\", ascending=False).head(20)"
   ]
  },
  {
   "cell_type": "code",
   "execution_count": null,
   "metadata": {},
   "outputs": [],
   "source": [
    "df_users.sort_values(\"id_y\", ascending=False).head(20)"
   ]
  },
  {
   "cell_type": "code",
   "execution_count": null,
   "metadata": {},
   "outputs": [],
   "source": [
    "df_users"
   ]
  },
  {
   "cell_type": "code",
   "execution_count": null,
   "metadata": {},
   "outputs": [],
   "source": [
    "fig, ax = plt.subplots()\n",
    "#ax.set(xscale=\"log\", yscale=\"log\")\n",
    "sns.scatterplot(x=\"id_y\", y=\"matching_count\", data=df_users.query(\"id_y < 400\"),ax=ax)\n",
    "plt.show()"
   ]
  },
  {
   "cell_type": "code",
   "execution_count": null,
   "metadata": {},
   "outputs": [],
   "source": [
    "sns.relplot(x=\"ions_total\", y=\"matching_count\", data=df_users.query(\"ions_total < 60000\"))"
   ]
  }
 ],
 "metadata": {
  "kernelspec": {
   "display_name": "Python 3",
   "language": "python",
   "name": "python3"
  },
  "language_info": {
   "codemirror_mode": {
    "name": "ipython",
    "version": 3
   },
   "file_extension": ".py",
   "mimetype": "text/x-python",
   "name": "python",
   "nbconvert_exporter": "python",
   "pygments_lexer": "ipython3",
   "version": "3.6.4"
  }
 },
 "nbformat": 4,
 "nbformat_minor": 4
}
