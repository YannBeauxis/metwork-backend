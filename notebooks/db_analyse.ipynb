{
 "metadata": {
  "language_info": {
   "codemirror_mode": {
    "name": "ipython",
    "version": 3
   },
   "file_extension": ".py",
   "mimetype": "text/x-python",
   "name": "python",
   "nbconvert_exporter": "python",
   "pygments_lexer": "ipython3",
   "version": "3.6.12-final"
  },
  "orig_nbformat": 2,
  "kernelspec": {
   "name": "python_defaultSpec_1607424341124",
   "display_name": "Python 3.6.12 64-bit ('metwork-backend-dfvxahAs-py3.6': venv)"
  }
 },
 "nbformat": 4,
 "nbformat_minor": 2,
 "cells": [
  {
   "cell_type": "code",
   "execution_count": null,
   "metadata": {},
   "outputs": [],
   "source": [
    "from pathlib import Path\n",
    "import matplotlib.pyplot as plt\n",
    "import pandas as pd\n",
    "import seaborn as sns"
   ]
  },
  {
   "cell_type": "code",
   "execution_count": null,
   "metadata": {},
   "outputs": [],
   "source": [
    "dfs = {}\n",
    "for name in (\"users\", \"projects\", \"projects_info\", \"fragsamples\", \"fragsamples_info\"):\n",
    "    path = Path().resolve() / \"{}.json\".format(name)\n",
    "    dfs[name] = pd.read_json(path).set_index(\"id\")"
   ]
  },
  {
   "cell_type": "code",
   "execution_count": null,
   "metadata": {},
   "outputs": [],
   "source": [
    "dfs[\"users\"].head()"
   ]
  },
  {
   "cell_type": "code",
   "execution_count": null,
   "metadata": {},
   "outputs": [],
   "source": [
    "dfs[\"fragsamples\"].head()"
   ]
  },
  {
   "cell_type": "code",
   "execution_count": null,
   "metadata": {},
   "outputs": [],
   "source": [
    "df_projects = dfs[\"projects\"].merge(dfs[\"projects_info\"], on=\"id\", how=\"outer\")"
   ]
  },
  {
   "cell_type": "code",
   "execution_count": null,
   "metadata": {},
   "outputs": [],
   "source": [
    "df_projects.groupby(\"user_id\").agg([\"nunique\", \"count\"]).frag_sample_id_y"
   ]
  },
  {
   "cell_type": "code",
   "execution_count": null,
   "metadata": {},
   "outputs": [],
   "source": [
    "PROJECT_COLS = (\"\")\n",
    "user_count = df_projects.reset_index().groupby(\"user_id\").agg({\"id\": \"count\",  \"matching_count\": \"sum\"})#.head(20)\n",
    "user_count.sort_values(by=\"matching_count\", ascending=False).head()\n"
   ]
  },
  {
   "cell_type": "code",
   "execution_count": null,
   "metadata": {},
   "outputs": [],
   "source": [
    "sns.displot(user_count.query(\"user_id!=17 and id<20\"), x=\"id\")"
   ]
  },
  {
   "cell_type": "code",
   "execution_count": null,
   "metadata": {},
   "outputs": [],
   "source": [
    "sns.displot(user_count.query(\"user_id!=17\"), x=\"id\")"
   ]
  },
  {
   "cell_type": "code",
   "execution_count": null,
   "metadata": {},
   "outputs": [],
   "source": [
    "sns.displot(user_count.query(\"user_id!=17 and matching_count > 0\" ), x=\"matching_count\")"
   ]
  },
  {
   "cell_type": "code",
   "execution_count": null,
   "metadata": {},
   "outputs": [],
   "source": [
    "user_count.query(\"id == 0\")"
   ]
  },
  {
   "cell_type": "code",
   "execution_count": null,
   "metadata": {},
   "outputs": [],
   "source": [
    "df_fs = dfs[\"fragsamples\"].merge(dfs[\"fragsamples_info\"], on=\"id\", how=\"outer\")\n",
    "df_fs\n"
   ]
  },
  {
   "cell_type": "code",
   "execution_count": null,
   "metadata": {},
   "outputs": [],
   "source": [
    "df_fs.query(\"user_id == 92\")"
   ]
  },
  {
   "cell_type": "code",
   "execution_count": null,
   "metadata": {},
   "outputs": [],
   "source": [
    "df_fs_group = df_fs.groupby(\"user_id\").agg({\"name\": \"count\", \"annotations_count\": \"sum\",\"ions_total\": \"sum\"})\n",
    "df_fs_group.sort_values(\"name\", ascending=False)"
   ]
  },
  {
   "cell_type": "code",
   "execution_count": null,
   "metadata": {},
   "outputs": [],
   "source": [
    "sns.displot(df_fs_group, x=\"name\")"
   ]
  },
  {
   "cell_type": "code",
   "execution_count": null,
   "metadata": {},
   "outputs": [],
   "source": [
    "sns.displot(df_fs_group, x=\"annotations_count\")"
   ]
  },
  {
   "cell_type": "code",
   "execution_count": null,
   "metadata": {},
   "outputs": [],
   "source": [
    "sns.displot(df_fs_group, x=\"ions_total\")"
   ]
  },
  {
   "cell_type": "code",
   "execution_count": null,
   "metadata": {},
   "outputs": [],
   "source": [
    "df_users = dfs[\"users\"].reset_index().merge(df_fs_group, left_on=\"id\", right_on=\"user_id\", how=\"outer\")\n",
    "df_users = df_users.reset_index().merge(user_count, left_on=\"id\", right_on=\"user_id\", how=\"outer\")\n",
    "df_users.sort_values(\"name\", ascending=False).head(20)"
   ]
  },
  {
   "cell_type": "code",
   "execution_count": null,
   "metadata": {},
   "outputs": [],
   "source": [
    "df_users.sort_values(\"id_y\", ascending=False).head(20)"
   ]
  },
  {
   "cell_type": "code",
   "execution_count": null,
   "metadata": {},
   "outputs": [],
   "source": [
    "df_users"
   ]
  },
  {
   "cell_type": "code",
   "execution_count": null,
   "metadata": {},
   "outputs": [],
   "source": [
    "fig, ax = plt.subplots()\n",
    "#ax.set(xscale=\"log\", yscale=\"log\")\n",
    "sns.scatterplot(x=\"id_y\", y=\"matching_count\", data=df_users.query(\"id_y < 400\"),ax=ax)\n",
    "plt.show()"
   ]
  },
  {
   "cell_type": "code",
   "execution_count": null,
   "metadata": {},
   "outputs": [],
   "source": [
    "sns.relplot(x=\"ions_total\", y=\"matching_count\", data=df_users.query(\"ions_total < 60000\"))"
   ]
  }
 ]
}